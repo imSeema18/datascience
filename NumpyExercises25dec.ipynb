{
 "cells": [
  {
   "cell_type": "code",
   "execution_count": 6,
   "metadata": {},
   "outputs": [
    {
     "name": "stdout",
     "output_type": "stream",
     "text": [
      "Numpy version is 1.15.4\n"
     ]
    }
   ],
   "source": [
    "#find version of numpy\n",
    "import numpy as np\n",
    "print(\"Numpy version is \"+np.__version__)"
   ]
  },
  {
   "cell_type": "code",
   "execution_count": 8,
   "metadata": {},
   "outputs": [
    {
     "name": "stdout",
     "output_type": "stream",
     "text": [
      "add(x1, x2, /, out=None, *, where=True, casting='same_kind', order='K', dtype=None, subok=True[, signature, extobj])\n",
      "\n",
      "Add arguments element-wise.\n",
      "\n",
      "Parameters\n",
      "----------\n",
      "x1, x2 : array_like\n",
      "    The arrays to be added.  If ``x1.shape != x2.shape``, they must be\n",
      "    broadcastable to a common shape (which may be the shape of one or\n",
      "    the other).\n",
      "out : ndarray, None, or tuple of ndarray and None, optional\n",
      "    A location into which the result is stored. If provided, it must have\n",
      "    a shape that the inputs broadcast to. If not provided or `None`,\n",
      "    a freshly-allocated array is returned. A tuple (possible only as a\n",
      "    keyword argument) must have length equal to the number of outputs.\n",
      "where : array_like, optional\n",
      "    Values of True indicate to calculate the ufunc at that position, values\n",
      "    of False indicate to leave the value in the output alone.\n",
      "**kwargs\n",
      "    For other keyword-only arguments, see the\n",
      "    :ref:`ufunc docs <ufuncs.kwargs>`.\n",
      "\n",
      "Returns\n",
      "-------\n",
      "add : ndarray or scalar\n",
      "    The sum of `x1` and `x2`, element-wise.\n",
      "    This is a scalar if both `x1` and `x2` are scalars.\n",
      "\n",
      "Notes\n",
      "-----\n",
      "Equivalent to `x1` + `x2` in terms of array broadcasting.\n",
      "\n",
      "Examples\n",
      "--------\n",
      ">>> np.add(1.0, 4.0)\n",
      "5.0\n",
      ">>> x1 = np.arange(9.0).reshape((3, 3))\n",
      ">>> x2 = np.arange(3.0)\n",
      ">>> np.add(x1, x2)\n",
      "array([[  0.,   2.,   4.],\n",
      "       [  3.,   5.,   7.],\n",
      "       [  6.,   8.,  10.]])\n"
     ]
    }
   ],
   "source": [
    "#get the information of add function of numpy\n",
    "np.info(np.add)"
   ]
  },
  {
   "cell_type": "code",
   "execution_count": 16,
   "metadata": {},
   "outputs": [
    {
     "name": "stdout",
     "output_type": "stream",
     "text": [
      "[1 4 3 2 5 9]\n",
      "Test result whethere are non-zero element:True\n",
      "[1 4 3 0 5 9]\n",
      "Test result whethere are non-zero element:False\n"
     ]
    }
   ],
   "source": [
    "#make a numpy array and check if elements are zero\n",
    "array1=np.array([1,4,3,2,5,9])\n",
    "print(array1)\n",
    "print(\"Test result whethere are non-zero element:\"+str(np.all(array1)))\n",
    "array2=np.array([1,4,3,0,5,9])\n",
    "print(array2)\n",
    "print(\"Test result whethere are non-zero element:\"+str(np.all(array2)))"
   ]
  },
  {
   "cell_type": "code",
   "execution_count": 18,
   "metadata": {},
   "outputs": [
    {
     "name": "stdout",
     "output_type": "stream",
     "text": [
      "[ 1.  4. nan inf  2.  3.  4.  0.]\n",
      "Test whether there are infinite numbers in given array[ True  True False False  True  True  True  True]\n"
     ]
    }
   ],
   "source": [
    "#conduct a programming analysis to see if there are any infinite number in given dataset.\n",
    "array1= np.array([1,4, np.nan, np.inf,2,3,4,0])\n",
    "print(array1)\n",
    "print(\"Test whether there are infinite numbers in given array\"+str(np.isfinite(array1)))"
   ]
  },
  {
   "cell_type": "code",
   "execution_count": 19,
   "metadata": {},
   "outputs": [
    {
     "name": "stdout",
     "output_type": "stream",
     "text": [
      "[ 1.  4. nan inf  2.  3.  4.  0.]\n",
      "Test whether there are infinite numbers in given array[False False False  True False False False False]\n"
     ]
    }
   ],
   "source": [
    "#check whether the given dataset offers positive or negative infinity for given set of datasets\n",
    "array1= np.array([1,4, np.nan, np.inf,2,3,4,0])\n",
    "print(array1)\n",
    "print(\"Test whether there are infinite numbers in given array\"+str(np.isinf(array1)))"
   ]
  },
  {
   "cell_type": "code",
   "execution_count": null,
   "metadata": {},
   "outputs": [],
   "source": []
  }
 ],
 "metadata": {
  "kernelspec": {
   "display_name": "Python 3",
   "language": "python",
   "name": "python3"
  }
 },
 "nbformat": 4,
 "nbformat_minor": 2
}
